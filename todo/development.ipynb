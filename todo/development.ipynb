{
 "cells": [
  {
   "cell_type": "markdown",
   "metadata": {},
   "source": [
    "### Watcher\n",
    "\n",
    "- Extracting code recursively.\n",
    "- Detect changes of files, and register this as event.\n",
    " \n",
    "\n",
    "### Server\n",
    "\n",
    "We need a server to talk to the original storybook.\n",
    "The base server will just give the basic functions of python-storybook out.\n",
    "For more functionality including watchers', we will need to implement seperately, and add them as router.\n",
    "\n",
    "Implement this just simple server asap, and make the simplest communication example first.\n"
   ]
  }
 ],
 "metadata": {
  "language_info": {
   "name": "python"
  }
 },
 "nbformat": 4,
 "nbformat_minor": 2
}

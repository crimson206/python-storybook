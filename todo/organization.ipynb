{
 "cells": [
  {
   "cell_type": "markdown",
   "metadata": {},
   "source": [
    "### Delete\n",
    "\n",
    "- Required\n",
    "    Implement the simple server api, and make a simple example of storybook using it. And then, we don't need the old files anymore.\n",
    "\n",
    "- Autodoc API\n",
    "    We don't need the autodoc api.\n",
    "    It can be done in the original storybook better.\n",
    "    python-storybook will just pass the information.\n",
    "\n",
    "- Core\n",
    "    Core module is implemented independently in another repository.\n",
    "    We'd better delete the core. We will use the core library to display some story in storybook\n",
    "\n"
   ]
  }
 ],
 "metadata": {
  "language_info": {
   "name": "python"
  }
 },
 "nbformat": 4,
 "nbformat_minor": 2
}

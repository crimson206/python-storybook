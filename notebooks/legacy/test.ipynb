{
 "cells": [
  {
   "cell_type": "code",
   "execution_count": 1,
   "metadata": {},
   "outputs": [],
   "source": [
    "from python_storybook import core"
   ]
  },
  {
   "cell_type": "code",
   "execution_count": 2,
   "metadata": {},
   "outputs": [],
   "source": [
    "render = core.Story(\n",
    "    story_name=\"Example\",\n",
    "    story=\"Hi\"\n",
    ")"
   ]
  },
  {
   "cell_type": "code",
   "execution_count": 133,
   "metadata": {},
   "outputs": [],
   "source": [
    "def get_docs(func):\n",
    "    import inspect\n",
    "    return inspect.getdoc(func)\n",
    "\n",
    "def get_type_hints_inspect(func):\n",
    "    import inspect\n",
    "    \n",
    "    signature = inspect.signature(func)\n",
    "    type_hints = {name: param.annotation for name, param in signature.parameters.items()}\n",
    "    type_hints[\"return\"] = signature.return_annotation\n",
    "    return type_hints\n",
    "\n",
    "def get_type_hints_typing(func):\n",
    "    from typing import get_type_hints\n",
    "    type_hints = get_type_hints(func)\n",
    "    return type_hints\n",
    "\n",
    "def get_type_hints(func):\n",
    "    type_hints = get_type_hints_typing(func)\n",
    "    type_hints = {key: value.__name__ for key, value in type_hints.items()}\n",
    "    return type_hints"
   ]
  },
  {
   "cell_type": "code",
   "execution_count": 137,
   "metadata": {},
   "outputs": [
    {
     "data": {
      "text/plain": [
       "{'arg1': int, 'arg2': int, 'return': int}"
      ]
     },
     "execution_count": 137,
     "metadata": {},
     "output_type": "execute_result"
    }
   ],
   "source": [
    "get_type_hints(render)\n"
   ]
  },
  {
   "cell_type": "code",
   "execution_count": 138,
   "metadata": {},
   "outputs": [
    {
     "data": {
      "text/plain": [
       "(int, 'int')"
      ]
     },
     "execution_count": 138,
     "metadata": {},
     "output_type": "execute_result"
    }
   ],
   "source": [
    "int, int.__name__"
   ]
  },
  {
   "cell_type": "code",
   "execution_count": 207,
   "metadata": {},
   "outputs": [],
   "source": [
    "from pydantic import BaseModel\n",
    "from typing import List, Any, Optional, Callable, Dict, Union\n",
    "import os\n",
    "\n",
    "class Story(BaseModel):\n",
    "    name: str\n",
    "    render: Callable[[Any], str]\n",
    "    meta: Optional[Any]\n",
    "    parent: str\n",
    "\n",
    "class StoryMeta(BaseModel):\n",
    "    title:str\n",
    "    name:str\n",
    "    render_name:str\n",
    "    docs: str\n",
    "    type_hints:Dict[str, str]\n",
    "\n",
    "class StoryManager():\n",
    "    def __init__(self, title: str):\n",
    "        self.title = title\n",
    "        self.meta: Any = \"\"\n",
    "        self.stories: List[Story] = []\n",
    "        # self.path: str = os.path.abspath(__file__)\n",
    "        Head.register(story_manager=self)\n",
    "\n",
    "    def create_story(self, story_name: str, render: Callable[[Any], str])->None:\n",
    "        story = Story(\n",
    "            name=story_name,\n",
    "            meta=self.meta,\n",
    "            render=render,\n",
    "            parent=self.title\n",
    "        )\n",
    "        self.stories.append(\n",
    "            story\n",
    "        )\n",
    "\n",
    "    def get_story(self, story_name:str)->Story:\n",
    "        for story in self.stories:\n",
    "            if story_name==story.name:\n",
    "                return story\n",
    "        raise f\"There is no story named {story_name}\"\n",
    "\n",
    "    def get_story_names(self)->List[str]:\n",
    "        return [story.name for story in self.stories]\n",
    "\n",
    "\n",
    "class Head():\n",
    "    _all_managers:List[StoryManager] = []\n",
    "\n",
    "    @staticmethod\n",
    "    def register(story_manager: StoryManager)->None:\n",
    "        if story_manager.title in Head.get_titles():\n",
    "            raise \"Title can't be duplicated.\"\n",
    "        else:\n",
    "            Head._all_managers.append(story_manager)\n",
    "\n",
    "    @staticmethod\n",
    "    def get_manager(title:str)->StoryManager:\n",
    "        for manager in Head._all_managers:\n",
    "            if title==manager.title:\n",
    "                return manager\n",
    "        raise f\"There is no StoryManager with the title: {title}.\"\n",
    "\n",
    "    @staticmethod\n",
    "    def get_titles()->List[str]:\n",
    "        return [manager.title for manager in Head._all_managers]\n",
    "\n",
    "    @staticmethod\n",
    "    def get_story(full_path:str)->Story:\n",
    "        split = full_path.split('/')\n",
    "        title = \"/\".join(split[:-1])\n",
    "        story_name = split[-1]\n",
    "        story_manager = Head.get_manager(title)\n",
    "        story = story_manager.get_story(story_name=story_name)\n",
    "        return story\n",
    "    \n",
    "\n",
    "    @staticmethod\n",
    "    def get_story_meta(story_or_path: Union[Story, str])->StoryMeta:\n",
    "        if isinstance(story_or_path, Story):\n",
    "            story = story_or_path\n",
    "        else:\n",
    "            story = Head.get_story(full_path=story_or_path)\n",
    "        \n",
    "        story_meta = StoryMeta(\n",
    "            title=story.parent,\n",
    "            name=story.name,\n",
    "            render_name=story.render.__name__,\n",
    "            docs=get_docs(story.render),\n",
    "            type_hints=get_type_hints(story.render)\n",
    "        )\n",
    "        return story_meta\n"
   ]
  },
  {
   "cell_type": "code",
   "execution_count": null,
   "metadata": {},
   "outputs": [],
   "source": []
  },
  {
   "cell_type": "code",
   "execution_count": 208,
   "metadata": {},
   "outputs": [],
   "source": [
    "title = \"Example/String\"\n",
    "\n",
    "story_manager = StoryManager(\n",
    "    title=title\n",
    ")"
   ]
  },
  {
   "cell_type": "code",
   "execution_count": 209,
   "metadata": {},
   "outputs": [],
   "source": [
    "def render(arg1: int=1, arg2: int=2) -> int:\n",
    "    \"\"\"\n",
    "    Some docs string.\n",
    "    \"\"\"    \n",
    "\n",
    "    return arg1 + arg2\n",
    "\n",
    "story_manager.create_story(\n",
    "    story_name=\"Join\",\n",
    "    render=render,\n",
    ")"
   ]
  },
  {
   "cell_type": "markdown",
   "metadata": {},
   "source": [
    "### _Typehint Extraction Develop\n",
    "\n"
   ]
  },
  {
   "cell_type": "code",
   "execution_count": 158,
   "metadata": {},
   "outputs": [
    {
     "data": {
      "text/plain": [
       "Story(name='Join', render=<function render at 0x7f219f1912d0>, meta='', parent='Example/String')"
      ]
     },
     "execution_count": 158,
     "metadata": {},
     "output_type": "execute_result"
    }
   ],
   "source": [
    "Head.get_manager(title).stories[0]"
   ]
  },
  {
   "cell_type": "code",
   "execution_count": null,
   "metadata": {},
   "outputs": [],
   "source": []
  },
  {
   "cell_type": "code",
   "execution_count": 108,
   "metadata": {},
   "outputs": [],
   "source": [
    "def render(arg1:int, arg2:int)->int:\n",
    "    return arg1 + arg2"
   ]
  },
  {
   "cell_type": "code",
   "execution_count": 109,
   "metadata": {},
   "outputs": [
    {
     "name": "stdout",
     "output_type": "stream",
     "text": [
      "Function parameters:\n",
      "arg1: <class 'int'>\n",
      "arg2: <class 'int'>\n",
      "\n",
      "Return type:\n",
      "<class 'int'>\n",
      "\n",
      "Type hints:\n",
      "{'arg1': <class 'int'>, 'arg2': <class 'int'>, 'return': <class 'int'>}\n",
      "\n",
      "Docstring:\n",
      "\n",
      "    Some docs string.\n",
      "    \n",
      "\n",
      "Docstring using inspect:\n",
      "Some docs string.\n"
     ]
    }
   ],
   "source": [
    "import inspect\n",
    "from typing import get_type_hints\n",
    "\n",
    "class Render():\n",
    "    def __init__(self):\n",
    "        self.name = \"John\"\n",
    "        \n",
    "    def greet(self)->str:\n",
    "        return \"Hi.\"\n",
    "\n",
    "def render(arg1: int, arg2: int) -> int:\n",
    "    \"\"\"\n",
    "    Some docs string.\n",
    "    \"\"\"    \n",
    "\n",
    "    return arg1 + arg2\n",
    "\n",
    "# 함수 시그니처 얻기\n",
    "signature = inspect.signature(render)\n",
    "\n",
    "# 인자 이름과 타입 출력\n",
    "print(\"Function parameters:\")\n",
    "for name, param in signature.parameters.items():\n",
    "    print(f\"{name}: {param.annotation}\")\n",
    "\n",
    "# 반환 타입 출력\n",
    "print(\"\\nReturn type:\")\n",
    "print(signature.return_annotation)\n",
    "\n",
    "\n",
    "# get_type_hints를 사용하여 더 간결한 방식으로 모든 타입 힌트 얻기\n",
    "type_hints = get_type_hints(render)\n",
    "print(\"\\nType hints:\")\n",
    "print(type_hints)\n",
    "\n",
    "\n",
    "# Docstring 출력\n",
    "print(\"\\nDocstring:\")\n",
    "print(render.__doc__)\n",
    "\n",
    "# inspect를 사용하여 docstring 가져오기\n",
    "print(\"\\nDocstring using inspect:\")\n",
    "print(inspect.getdoc(render))\n",
    "\n"
   ]
  },
  {
   "cell_type": "code",
   "execution_count": 101,
   "metadata": {},
   "outputs": [
    {
     "data": {
      "text/plain": [
       "int"
      ]
     },
     "execution_count": 101,
     "metadata": {},
     "output_type": "execute_result"
    }
   ],
   "source": [
    "type_hints['arg1']"
   ]
  },
  {
   "cell_type": "code",
   "execution_count": null,
   "metadata": {},
   "outputs": [
    {
     "name": "stdout",
     "output_type": "stream",
     "text": [
      "{'arg1': <class 'int'>, 'arg2': <class 'int'>, 'return': <class 'int'>}\n"
     ]
    }
   ],
   "source": [
    "print(type_hints)"
   ]
  },
  {
   "cell_type": "code",
   "execution_count": null,
   "metadata": {},
   "outputs": [
    {
     "data": {
      "text/plain": [
       "mappingproxy({'arg1': <Parameter \"arg1: int\">,\n",
       "              'arg2': <Parameter \"arg2: int\">})"
      ]
     },
     "execution_count": 74,
     "metadata": {},
     "output_type": "execute_result"
    }
   ],
   "source": [
    "signature.parameters"
   ]
  },
  {
   "cell_type": "code",
   "execution_count": null,
   "metadata": {},
   "outputs": [],
   "source": [
    "\n"
   ]
  },
  {
   "cell_type": "markdown",
   "metadata": {},
   "source": [
    "### Test Story"
   ]
  },
  {
   "cell_type": "code",
   "execution_count": 210,
   "metadata": {},
   "outputs": [],
   "source": [
    "full_path = \"Example/String/Join\"\n",
    "\n",
    "render = Head.get_story(full_path)"
   ]
  },
  {
   "cell_type": "code",
   "execution_count": 211,
   "metadata": {},
   "outputs": [
    {
     "name": "stdout",
     "output_type": "stream",
     "text": [
      "{'docs': 'Some docs string.',\n",
      " 'name': 'Join',\n",
      " 'render_name': 'render',\n",
      " 'title': 'Example/String',\n",
      " 'type_hints': {'arg1': 'int', 'arg2': 'int', 'return': 'int'}}\n"
     ]
    }
   ],
   "source": [
    "from pprint import pprint\n",
    "\n",
    "pprint(Head.get_story_meta(render).model_dump())"
   ]
  },
  {
   "cell_type": "code",
   "execution_count": 212,
   "metadata": {},
   "outputs": [],
   "source": [
    "\n",
    "\n",
    "story_docs_template = '''\n",
    "## {title}/{name}\n",
    "\n",
    "Render Name : \n",
    "    {render_name}\n",
    "\n",
    "Documentation :\n",
    "{docs}\n",
    "\n",
    "Type Hints :\n",
    "{type_hints}\n",
    "\n",
    "Result:\n",
    "    {result}\n",
    "\n",
    "'''"
   ]
  },
  {
   "cell_type": "code",
   "execution_count": 219,
   "metadata": {},
   "outputs": [],
   "source": [
    "import json\n",
    "\n",
    "story_meta = Head.get_story_meta(render).model_dump()\n",
    "story_meta['type_hints'] = json.dumps(story_meta['type_hints'], indent=2)"
   ]
  },
  {
   "cell_type": "code",
   "execution_count": 223,
   "metadata": {},
   "outputs": [],
   "source": [
    "def set_indent(text:str, indent:int=4):\n",
    "    space = \" \" * indent\n",
    "    split = text.split('\\n')\n",
    "    split = [space + line for line in split]\n",
    "    return \"\\n\".join(split)"
   ]
  },
  {
   "cell_type": "code",
   "execution_count": 224,
   "metadata": {},
   "outputs": [],
   "source": [
    "story_meta['type_hints'] = set_indent(story_meta['type_hints'])\n"
   ]
  },
  {
   "cell_type": "code",
   "execution_count": 225,
   "metadata": {},
   "outputs": [],
   "source": [
    "story_meta['docs'] = set_indent(story_meta['docs'])"
   ]
  },
  {
   "cell_type": "code",
   "execution_count": 220,
   "metadata": {},
   "outputs": [
    {
     "name": "stdout",
     "output_type": "stream",
     "text": [
      "{\n",
      "  \"arg1\": \"int\",\n",
      "  \"arg2\": \"int\",\n",
      "  \"return\": \"int\"\n",
      "}\n"
     ]
    }
   ],
   "source": [
    "print(story_meta['type_hints'])"
   ]
  },
  {
   "cell_type": "code",
   "execution_count": 221,
   "metadata": {},
   "outputs": [],
   "source": [
    "story_meta[\"result\"] = render.render()"
   ]
  },
  {
   "cell_type": "code",
   "execution_count": 226,
   "metadata": {},
   "outputs": [
    {
     "name": "stdout",
     "output_type": "stream",
     "text": [
      "\n",
      "## Example/String/Join\n",
      "\n",
      "Render Name : \n",
      "    render\n",
      "\n",
      "Documentation :\n",
      "    Some docs string.\n",
      "\n",
      "Type Hints :\n",
      "    {\n",
      "      \"arg1\": \"int\",\n",
      "      \"arg2\": \"int\",\n",
      "      \"return\": \"int\"\n",
      "    }\n",
      "\n",
      "Result:\n",
      "    3\n",
      "\n",
      "\n"
     ]
    }
   ],
   "source": [
    "print(story_docs_template.format(\n",
    "    **story_meta\n",
    "))"
   ]
  }
 ],
 "metadata": {
  "kernelspec": {
   "display_name": "python-storybook",
   "language": "python",
   "name": "python3"
  },
  "language_info": {
   "codemirror_mode": {
    "name": "ipython",
    "version": 3
   },
   "file_extension": ".py",
   "mimetype": "text/x-python",
   "name": "python",
   "nbconvert_exporter": "python",
   "pygments_lexer": "ipython3",
   "version": "3.10.14"
  }
 },
 "nbformat": 4,
 "nbformat_minor": 2
}

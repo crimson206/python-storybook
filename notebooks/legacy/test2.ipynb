{
 "cells": [
  {
   "cell_type": "code",
   "execution_count": 1,
   "metadata": {},
   "outputs": [],
   "source": [
    "from python_storybook.core import (\n",
    "    StoryHub,\n",
    "    StoryManager,\n",
    ")\n",
    "\n",
    "from python_storybook.autodocs import AutoDocsAPI"
   ]
  },
  {
   "cell_type": "code",
   "execution_count": 2,
   "metadata": {},
   "outputs": [],
   "source": [
    "story_manager = StoryManager(\n",
    "    title=\"Example/String\"\n",
    ")"
   ]
  },
  {
   "cell_type": "code",
   "execution_count": 3,
   "metadata": {},
   "outputs": [],
   "source": [
    "def IamAFunction(input:str=\"3\"):\n",
    "    return \"Some Story\""
   ]
  },
  {
   "cell_type": "code",
   "execution_count": 4,
   "metadata": {},
   "outputs": [],
   "source": [
    "story_manager.create_story(\n",
    "    story_name=\"AnyName\",\n",
    "    render=IamAFunction\n",
    ")\n"
   ]
  },
  {
   "cell_type": "code",
   "execution_count": 5,
   "metadata": {},
   "outputs": [
    {
     "data": {
      "text/plain": [
       "{'AnyName': Story(name='AnyName', render=<function IamAFunction at 0x7fc5a932d5a0>, meta='', parent='Example/String')}"
      ]
     },
     "execution_count": 5,
     "metadata": {},
     "output_type": "execute_result"
    }
   ],
   "source": [
    "story_manager.stories"
   ]
  },
  {
   "cell_type": "code",
   "execution_count": 6,
   "metadata": {},
   "outputs": [],
   "source": [
    "story = StoryHub.get_story(\"Example/String/AnyName\")"
   ]
  },
  {
   "cell_type": "code",
   "execution_count": 7,
   "metadata": {},
   "outputs": [],
   "source": [
    "story_meta = StoryHub.get_story_meta(story_or_path=story)"
   ]
  },
  {
   "cell_type": "code",
   "execution_count": 8,
   "metadata": {},
   "outputs": [
    {
     "name": "stdout",
     "output_type": "stream",
     "text": [
      "## Example/String/AnyName\n",
      "\n",
      "Render Name :\n",
      "    IamAFunction\n",
      "\n",
      "Type Hints :\n",
      "    {\n",
      "      \"input\": \"str\"\n",
      "    }\n",
      "\n",
      "Result:\n",
      "    Some Story\n",
      "\n",
      "\n"
     ]
    }
   ],
   "source": [
    "print(AutoDocsAPI.generate_auto_docs(story))"
   ]
  }
 ],
 "metadata": {
  "kernelspec": {
   "display_name": "python-storybook",
   "language": "python",
   "name": "python3"
  },
  "language_info": {
   "codemirror_mode": {
    "name": "ipython",
    "version": 3
   },
   "file_extension": ".py",
   "mimetype": "text/x-python",
   "name": "python",
   "nbconvert_exporter": "python",
   "pygments_lexer": "ipython3",
   "version": "3.10.14"
  }
 },
 "nbformat": 4,
 "nbformat_minor": 2
}

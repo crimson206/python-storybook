{
 "cells": [
  {
   "cell_type": "code",
   "execution_count": 1,
   "metadata": {},
   "outputs": [],
   "source": [
    "from python_storybook.core import (\n",
    "    StoryHub,\n",
    "    StoryManager,\n",
    ")\n",
    "\n",
    "from python_storybook.autodocs import AutoDocsAPI"
   ]
  },
  {
   "cell_type": "code",
   "execution_count": 2,
   "metadata": {},
   "outputs": [],
   "source": [
    "from rag import i_am_princess, reculsive_rag, SomeClass\n",
    "from level2.rag import i_am_princess2"
   ]
  },
  {
   "cell_type": "code",
   "execution_count": 3,
   "metadata": {},
   "outputs": [],
   "source": [
    "title=\"Example/String\"\n",
    "\n",
    "story_manager = StoryManager(\n",
    "    title=title\n",
    ")\n",
    "\n",
    "story_manager.create_story(\n",
    "    story_name=i_am_princess.__name__,\n",
    "    render=i_am_princess,\n",
    "    kwargs={\"name\": \"Lisa\"}\n",
    ")\n",
    "\n",
    "story_manager.create_story(\n",
    "    story_name=reculsive_rag.__name__,\n",
    "    render=reculsive_rag\n",
    ")\n",
    "\n",
    "story_manager.create_story(\n",
    "    story_name=i_am_princess2.__name__,\n",
    "    render=i_am_princess2\n",
    ")\n"
   ]
  },
  {
   "cell_type": "code",
   "execution_count": 4,
   "metadata": {},
   "outputs": [],
   "source": [
    "story_manager.create_story(\n",
    "    story_name=reculsive_rag.__name__,\n",
    "    render=reculsive_rag\n",
    ")\n"
   ]
  },
  {
   "cell_type": "code",
   "execution_count": 5,
   "metadata": {},
   "outputs": [
    {
     "data": {
      "text/plain": [
       "'<function reculsive_rag at 0x7f3ac7d27b50>'"
      ]
     },
     "execution_count": 5,
     "metadata": {},
     "output_type": "execute_result"
    }
   ],
   "source": [
    "str(reculsive_rag)"
   ]
  },
  {
   "cell_type": "code",
   "execution_count": 6,
   "metadata": {},
   "outputs": [
    {
     "data": {
      "text/plain": [
       "<code object reculsive_rag at 0x7f3ac7d76130, file \"/home/crimson/Projects/manager/python-storybooks/notebooks/rag.py\", line 8>"
      ]
     },
     "execution_count": 6,
     "metadata": {},
     "output_type": "execute_result"
    }
   ],
   "source": [
    "reculsive_rag.__code__"
   ]
  },
  {
   "cell_type": "code",
   "execution_count": 7,
   "metadata": {},
   "outputs": [
    {
     "data": {
      "text/plain": [
       "<python_storybook.core.StoryManager at 0x7f3ac6d60e80>"
      ]
     },
     "execution_count": 7,
     "metadata": {},
     "output_type": "execute_result"
    }
   ],
   "source": [
    "StoryHub.get_titles()\n",
    "StoryHub.get_manager(title)"
   ]
  },
  {
   "cell_type": "code",
   "execution_count": 8,
   "metadata": {},
   "outputs": [],
   "source": [
    "autodocAPI = AutoDocsAPI()"
   ]
  },
  {
   "cell_type": "code",
   "execution_count": 9,
   "metadata": {},
   "outputs": [
    {
     "name": "stdout",
     "output_type": "stream",
     "text": [
      "title='Example/String' story_metas=[StoryMeta(title='Example/String', name='i_am_princess', render_name='i_am_princess', docs=None, type_hints={'name': 'str'}, result='A boring sentence with a name Lisa.'), StoryMeta(title='Example/String', name='reculsive_rag', render_name='reculsive_rag', docs=None, type_hints={'query': 'str', 'return': 'str'}, result='{\"file1\": \"Hello world.\", \"file2\": \"This is a book.\"}'), StoryMeta(title='Example/String', name='i_am_princess2', render_name='i_am_princess2', docs=None, type_hints={}, result='A boring sentence.')]\n"
     ]
    }
   ],
   "source": [
    "from pprint import pprint\n",
    "from markdown import markdown\n",
    "print(autodocAPI.generate_auto_docs(title))"
   ]
  },
  {
   "cell_type": "code",
   "execution_count": 10,
   "metadata": {},
   "outputs": [],
   "source": [
    "stories = autodocAPI.generate_auto_docs(title)"
   ]
  },
  {
   "cell_type": "code",
   "execution_count": 11,
   "metadata": {},
   "outputs": [
    {
     "data": {
      "text/plain": [
       "StoryMeta(title='Example/String', name='i_am_princess', render_name='i_am_princess', docs=None, type_hints={'name': 'str'}, result='A boring sentence with a name Lisa.')"
      ]
     },
     "execution_count": 11,
     "metadata": {},
     "output_type": "execute_result"
    }
   ],
   "source": [
    "stories.story_metas[0]"
   ]
  },
  {
   "cell_type": "code",
   "execution_count": 12,
   "metadata": {},
   "outputs": [
    {
     "data": {
      "text/plain": [
       "{'query': 'str', 'return': 'str'}"
      ]
     },
     "execution_count": 12,
     "metadata": {},
     "output_type": "execute_result"
    }
   ],
   "source": [
    "stories.story_metas[1].type_hints"
   ]
  },
  {
   "cell_type": "code",
   "execution_count": 13,
   "metadata": {},
   "outputs": [
    {
     "name": "stdout",
     "output_type": "stream",
     "text": [
      "StoryMeta(title='Example/String', name='i_am_princess', render_name='i_am_princess', docs=None, type_hints={'name': 'str'}, result='A boring sentence with a name Lisa.')\n",
      "StoryMeta(title='Example/String', name='reculsive_rag', render_name='reculsive_rag', docs=None, type_hints={'query': 'str', 'return': 'str'}, result='{\"file1\": \"Hello world.\", \"file2\": \"This is a book.\"}')\n",
      "StoryMeta(title='Example/String', name='i_am_princess2', render_name='i_am_princess2', docs=None, type_hints={}, result='A boring sentence.')\n"
     ]
    }
   ],
   "source": [
    "for story in stories.story_metas:\n",
    "    pprint(story)"
   ]
  },
  {
   "cell_type": "markdown",
   "metadata": {},
   "source": [
    "# Example/String\n",
    "\n",
    "## Example/String/i_am_princess\n",
    "```markdown\n",
    "Render Name :\n",
    "    i_am_princess\n",
    "\n",
    "Type Hints :\n",
    "    {}\n",
    "\n",
    "Result:\n",
    "    A boring sentence.\n",
    "```\n",
    "## Example/String/reculsive_rag\n",
    "```markdown\n",
    "Render Name :\n",
    "    reculsive_rag\n",
    "\n",
    "Type Hints :\n",
    "    {\n",
    "      \"query\": \"str\",\n",
    "      \"return\": \"str\"\n",
    "    }\n",
    "\n",
    "Result:\n",
    "    {\"file1\": \"Hello world.\", \"file2\": \"This is a book.\"}\n",
    "```\n"
   ]
  }
 ],
 "metadata": {
  "kernelspec": {
   "display_name": "python-storybook",
   "language": "python",
   "name": "python3"
  },
  "language_info": {
   "codemirror_mode": {
    "name": "ipython",
    "version": 3
   },
   "file_extension": ".py",
   "mimetype": "text/x-python",
   "name": "python",
   "nbconvert_exporter": "python",
   "pygments_lexer": "ipython3",
   "version": "3.10.14"
  }
 },
 "nbformat": 4,
 "nbformat_minor": 2
}
